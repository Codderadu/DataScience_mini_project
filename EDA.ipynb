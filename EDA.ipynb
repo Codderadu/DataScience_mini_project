{
 "cells": [
  {
   "cell_type": "markdown",
   "id": "0843538a",
   "metadata": {},
   "source": [
    "## Data Analysis Process\n",
    "\n",
    "1. Asking Questions\n",
    "2. Data Wrangling<br>\n",
    "    a. Gathering Data \n",
    "        - i. CSV files \n",
    "        - ii. APIs \n",
    "        - iii. Web Scraping \n",
    "        - iv. Databases \n",
    "    b. Assessing Data<br>\n",
    "    c. Cleaning Data\n",
    "3. Exploratory Data Analysis\n",
    "4. Drawing Conclusion\n",
    "5. Comunicating Results"
   ]
  },
  {
   "cell_type": "markdown",
   "id": "fda72e02",
   "metadata": {},
   "source": [
    "### Summary of today's session\n",
    "\n",
    "- You have to become Sherlock\n",
    "- Will try to create a framework\n",
    "- Frameworks may vary\n",
    "- The goal is to give you idea"
   ]
  },
  {
   "cell_type": "markdown",
   "id": "04445548",
   "metadata": {},
   "source": [
    "### 1. Data Wrangling\n",
    "\n",
    "- Data Gathering\n",
    "- Data Accessing\n",
    "- Data Cleaning"
   ]
  },
  {
   "cell_type": "markdown",
   "id": "3aee3e12",
   "metadata": {},
   "source": [
    "### 1b. Data Accessing\n",
    "\n",
    "In this step, the data is to be understood more deeply. Before implementing methods to clean it, you will definitely need to have a better idea about what the data is about."
   ]
  },
  {
   "cell_type": "markdown",
   "id": "b1548b6c",
   "metadata": {},
   "source": [
    "### Types of Unclean Data\n",
    "There are 2 kinds of unclean data\n",
    "\n",
    "Dirty Data (Data with Quality issues): Dirty data, also known as low quality data. Low quality data has content issues.\n",
    "\n",
    "Duplicated data\n",
    "Missing Data\n",
    "Corrupt Data\n",
    "Inaccurate Data\n",
    "Messy Data (Data with tidiness issues): Messy data, also known as untidy data. Untidy data has structural issues.Tidy data has the following properties:\n",
    "\n",
    "Each variable forms a column\n",
    "Each observation forms a row\n",
    "Each observational unit forms a table"
   ]
  },
  {
   "cell_type": "code",
   "execution_count": 1,
   "id": "fbeee07e",
   "metadata": {},
   "outputs": [],
   "source": [
    "import numpy as np\n",
    "import pandas as pd"
   ]
  },
  {
   "cell_type": "code",
   "execution_count": 2,
   "id": "e78f6adc",
   "metadata": {},
   "outputs": [],
   "source": [
    "patients = pd.read_csv('patients.csv')\n",
    "treatments = pd.read_csv('treatments.csv')\n",
    "adverse_reactions = pd.read_csv('adverse_reactions.csv')\n",
    "treatments_cut = pd.read_csv('treatments_cut.csv')"
   ]
  },
  {
   "cell_type": "code",
   "execution_count": 3,
   "id": "bc824e4b",
   "metadata": {},
   "outputs": [
    {
     "data": {
      "text/html": [
       "<div>\n",
       "<style scoped>\n",
       "    .dataframe tbody tr th:only-of-type {\n",
       "        vertical-align: middle;\n",
       "    }\n",
       "\n",
       "    .dataframe tbody tr th {\n",
       "        vertical-align: top;\n",
       "    }\n",
       "\n",
       "    .dataframe thead th {\n",
       "        text-align: right;\n",
       "    }\n",
       "</style>\n",
       "<table border=\"1\" class=\"dataframe\">\n",
       "  <thead>\n",
       "    <tr style=\"text-align: right;\">\n",
       "      <th></th>\n",
       "      <th>patient_id</th>\n",
       "      <th>assigned_sex</th>\n",
       "      <th>given_name</th>\n",
       "      <th>surname</th>\n",
       "      <th>address</th>\n",
       "      <th>city</th>\n",
       "      <th>state</th>\n",
       "      <th>zip_code</th>\n",
       "      <th>country</th>\n",
       "      <th>contact</th>\n",
       "      <th>birthdate</th>\n",
       "      <th>weight</th>\n",
       "      <th>height</th>\n",
       "      <th>bmi</th>\n",
       "    </tr>\n",
       "  </thead>\n",
       "  <tbody>\n",
       "    <tr>\n",
       "      <th>0</th>\n",
       "      <td>1</td>\n",
       "      <td>female</td>\n",
       "      <td>Zoe</td>\n",
       "      <td>Wellish</td>\n",
       "      <td>576 Brown Bear Drive</td>\n",
       "      <td>Rancho California</td>\n",
       "      <td>California</td>\n",
       "      <td>92390.0</td>\n",
       "      <td>United States</td>\n",
       "      <td>951-719-9170ZoeWellish@superrito.com</td>\n",
       "      <td>7/10/1976</td>\n",
       "      <td>121.7</td>\n",
       "      <td>66</td>\n",
       "      <td>19.6</td>\n",
       "    </tr>\n",
       "    <tr>\n",
       "      <th>1</th>\n",
       "      <td>2</td>\n",
       "      <td>female</td>\n",
       "      <td>Pamela</td>\n",
       "      <td>Hill</td>\n",
       "      <td>2370 University Hill Road</td>\n",
       "      <td>Armstrong</td>\n",
       "      <td>Illinois</td>\n",
       "      <td>61812.0</td>\n",
       "      <td>United States</td>\n",
       "      <td>PamelaSHill@cuvox.de+1 (217) 569-3204</td>\n",
       "      <td>4/3/1967</td>\n",
       "      <td>118.8</td>\n",
       "      <td>66</td>\n",
       "      <td>19.2</td>\n",
       "    </tr>\n",
       "    <tr>\n",
       "      <th>2</th>\n",
       "      <td>3</td>\n",
       "      <td>male</td>\n",
       "      <td>Jae</td>\n",
       "      <td>Debord</td>\n",
       "      <td>1493 Poling Farm Road</td>\n",
       "      <td>York</td>\n",
       "      <td>Nebraska</td>\n",
       "      <td>68467.0</td>\n",
       "      <td>United States</td>\n",
       "      <td>402-363-6804JaeMDebord@gustr.com</td>\n",
       "      <td>2/19/1980</td>\n",
       "      <td>177.8</td>\n",
       "      <td>71</td>\n",
       "      <td>24.8</td>\n",
       "    </tr>\n",
       "    <tr>\n",
       "      <th>3</th>\n",
       "      <td>4</td>\n",
       "      <td>male</td>\n",
       "      <td>Liêm</td>\n",
       "      <td>Phan</td>\n",
       "      <td>2335 Webster Street</td>\n",
       "      <td>Woodbridge</td>\n",
       "      <td>NJ</td>\n",
       "      <td>7095.0</td>\n",
       "      <td>United States</td>\n",
       "      <td>PhanBaLiem@jourrapide.com+1 (732) 636-8246</td>\n",
       "      <td>7/26/1951</td>\n",
       "      <td>220.9</td>\n",
       "      <td>70</td>\n",
       "      <td>31.7</td>\n",
       "    </tr>\n",
       "    <tr>\n",
       "      <th>4</th>\n",
       "      <td>5</td>\n",
       "      <td>male</td>\n",
       "      <td>Tim</td>\n",
       "      <td>Neudorf</td>\n",
       "      <td>1428 Turkey Pen Lane</td>\n",
       "      <td>Dothan</td>\n",
       "      <td>AL</td>\n",
       "      <td>36303.0</td>\n",
       "      <td>United States</td>\n",
       "      <td>334-515-7487TimNeudorf@cuvox.de</td>\n",
       "      <td>2/18/1928</td>\n",
       "      <td>192.3</td>\n",
       "      <td>27</td>\n",
       "      <td>26.1</td>\n",
       "    </tr>\n",
       "  </tbody>\n",
       "</table>\n",
       "</div>"
      ],
      "text/plain": [
       "   patient_id assigned_sex given_name  surname                    address  \\\n",
       "0           1       female        Zoe  Wellish       576 Brown Bear Drive   \n",
       "1           2       female     Pamela     Hill  2370 University Hill Road   \n",
       "2           3         male        Jae   Debord      1493 Poling Farm Road   \n",
       "3           4         male       Liêm     Phan        2335 Webster Street   \n",
       "4           5         male        Tim  Neudorf       1428 Turkey Pen Lane   \n",
       "\n",
       "                city       state  zip_code        country  \\\n",
       "0  Rancho California  California   92390.0  United States   \n",
       "1          Armstrong    Illinois   61812.0  United States   \n",
       "2               York    Nebraska   68467.0  United States   \n",
       "3         Woodbridge          NJ    7095.0  United States   \n",
       "4             Dothan          AL   36303.0  United States   \n",
       "\n",
       "                                      contact  birthdate  weight  height   bmi  \n",
       "0        951-719-9170ZoeWellish@superrito.com  7/10/1976   121.7      66  19.6  \n",
       "1       PamelaSHill@cuvox.de+1 (217) 569-3204   4/3/1967   118.8      66  19.2  \n",
       "2            402-363-6804JaeMDebord@gustr.com  2/19/1980   177.8      71  24.8  \n",
       "3  PhanBaLiem@jourrapide.com+1 (732) 636-8246  7/26/1951   220.9      70  31.7  \n",
       "4             334-515-7487TimNeudorf@cuvox.de  2/18/1928   192.3      27  26.1  "
      ]
     },
     "execution_count": 3,
     "metadata": {},
     "output_type": "execute_result"
    }
   ],
   "source": [
    "patients.head()"
   ]
  },
  {
   "cell_type": "code",
   "execution_count": 4,
   "id": "4a02c3ce",
   "metadata": {},
   "outputs": [
    {
     "data": {
      "text/plain": [
       "patient_id      0.0\n",
       "assigned_sex      0\n",
       "given_name        0\n",
       "surname           0\n",
       "address           0\n",
       "city              0\n",
       "state             0\n",
       "zip_code        0.0\n",
       "country           0\n",
       "contact           0\n",
       "birthdate         0\n",
       "weight          0.0\n",
       "height          0.0\n",
       "bmi             0.0\n",
       "dtype: object"
      ]
     },
     "execution_count": 4,
     "metadata": {},
     "output_type": "execute_result"
    }
   ],
   "source": [
    "patients[patients.isnull()].sum()"
   ]
  },
  {
   "cell_type": "markdown",
   "id": "944c1551",
   "metadata": {},
   "source": [
    "Not null values in patients table"
   ]
  },
  {
   "cell_type": "markdown",
   "id": "131a4a57",
   "metadata": {},
   "source": [
    "### 1. Write a summary for your data\n",
    "\n",
    "This is a dataset about 500 patients of which 350 patients participated in a clinical trial. None of the patients were using Novodra (a popular injectable insulin) or Auralin (the oral insulin being researched) as their primary source of insulin before. All were experiencing elevated HbA1c levels.\n",
    "\n",
    "All 350 patients were treated with Novodra to establish a baseline HbA1c level and insulin dose. After 4 weeks, which isn’t enough time to capture all the change in HbA1c that can be attributed by the switch to Auralin or Novodra:\n",
    "\n",
    "- 175 patients switched to Auralin for 24 weeks\n",
    "- 175 patients continued using Novodra for 24 weeks\n",
    "\n",
    "Data about patients feeling some adverse effects is also recorded."
   ]
  },
  {
   "cell_type": "markdown",
   "id": "a2611ce7",
   "metadata": {},
   "source": [
    "### 2. Write Column descriptions\n",
    "\n",
    "#### **Table** -> `patients`:\n",
    "\n",
    "- `patient_id`: the unique identifier for each patient in the Master Patient Index (i.e. patient database) of the pharmaceutical company that is producing Auralin\n",
    "- `assigned_sex`: the assigned sex of each patient at birth (male or female)\n",
    "- `given_name`: the given name (i.e. first name) of each patient\n",
    "- `surname`: the surname (i.e. last name) of each patient\n",
    "- `address`: the main address for each patient\n",
    "- `city`: the corresponding city for the main address of each patient\n",
    "- `state`: the corresponding state for the main address of each patient\n",
    "- `zip_code`: the corresponding zip code for the main address of each patient\n",
    "- `country`: the corresponding country for the main address of each patient (all United states for this clinical trial)\n",
    "- `contact`: phone number and email information for each patient\n",
    "- `birthdate`: the date of birth of each patient (month/day/year). The inclusion criteria for this clinical trial is age >= 18 (there is no maximum age because diabetes is a growing problem among the elderly population)\n",
    "- `weight`: the weight of each patient in pounds (lbs)\n",
    "- `height`: the height of each patient in inches (in)\n",
    "- `bmi`: the Body Mass Index (BMI) of each patient. BMI is a simple calculation using a person's height and weight. The formula is BMI = kg/m2 where kg is a person's weight in kilograms and m2 is their height in metres squared. A BMI of 25.0 or more is overweight, while the healthy range is 18.5 to 24.9. The inclusion criteria for this clinical trial is 16 >= BMI >= 38."
   ]
  },
  {
   "cell_type": "markdown",
   "id": "062bca23",
   "metadata": {},
   "source": [
    "#### **Table** -> `treatments` and `treatment_cut`:\n",
    "\n",
    "- `given_name`: the given name of each patient in the Master Patient Index that took part in the clinical trial\n",
    "- `surname`: the surname of each patient in the Master Patient Index that took part in the clinical trial\n",
    "- `auralin`: the baseline median daily dose of insulin from the week prior to switching to Auralin (the number before the dash) and the ending median daily dose of insulin at the end of the 24 weeks of treatment measured over the 24th week of treatment (the number after the dash). Both are measured in units (shortform 'u'), which is the international unit of measurement and the standard measurement for insulin.\n",
    "- `novodra`: same as above, except for patients that continued treatment with Novodra\n",
    "- `hba1c_start`: the patient's HbA1c level at the beginning of the first week of treatment. HbA1c stands for Hemoglobin A1c. The HbA1c test measures what the average blood sugar has been over the past three months. It is thus a powerful way to get an overall sense of how well diabetes has been controlled. Everyone with diabetes should have this test 2 to 4 times per year. Measured in %.\n",
    "- `hba1c_end`: the patient's HbA1c level at the end of the last week of treatment\n",
    "- `hba1c_change`: the change in the patient's HbA1c level from the start of treatment to the end, i.e., hba1c_start - hba1c_end. For Auralin to be deemed effective, it must be \"noninferior\" to Novodra, the current standard for insulin. This \"noninferiority\" is statistically defined as the upper bound of the 95% confidence interval being less than 0.4% for the difference between the mean HbA1c changes for Novodra and Auralin (i.e. Novodra minus Auralin)."
   ]
  },
  {
   "cell_type": "markdown",
   "id": "b290d651",
   "metadata": {},
   "source": [
    "#### **Table** -> `adverse_reactions`\n",
    "\n",
    "- `given_name`: the given name of each patient in the Master Patient Index that took part in the clinical trial and had an adverse reaction (includes both patients treated Auralin and Novodra)\n",
    "- `surname`: the surname of each patient in the Master Patient Index that took part in the clinical trial and had an adverse reaction (includes both patients treated Auralin and Novodra)\n",
    "- `adverse_reaction`: the adverse reaction reported by the patient"
   ]
  },
  {
   "cell_type": "markdown",
   "id": "e8d528e2",
   "metadata": {},
   "source": [
    "### 3. Add any additional information\n",
    "\n",
    "Additional useful information:\n",
    "\n",
    "- Insulin resistance varies person to person, which is why both starting median daily dose and ending median daily dose are required, i.e., to calculate change in dose.\n",
    "- It is important to test drugs and medical products in the people they are meant to help. People of different age, race, sex, and ethnic group must be included in clinical trials. This diversity is reflected in the patients table."
   ]
  },
  {
   "cell_type": "markdown",
   "id": "31967015",
   "metadata": {},
   "source": [
    "### Types of Assessment\n",
    "There are 2 types of assessment styles\n",
    "\n",
    "- `Manual` - Looking through the data manually in google sheets\n",
    "- `Programmatic` - By using pandas functions such as info(), describe() or sample()\n",
    "\n",
    "### Steps in Assessment\n",
    "There are 2 steps involved in Assessment\n",
    "\n",
    "- Discover\n",
    "- Document"
   ]
  },
  {
   "cell_type": "code",
   "execution_count": 5,
   "id": "103a70a5",
   "metadata": {},
   "outputs": [
    {
     "ename": "NameError",
     "evalue": "name 'treatment_cut' is not defined",
     "output_type": "error",
     "traceback": [
      "\u001b[1;31m---------------------------------------------------------------------------\u001b[0m",
      "\u001b[1;31mNameError\u001b[0m                                 Traceback (most recent call last)",
      "Cell \u001b[1;32mIn[5], line 6\u001b[0m\n\u001b[0;32m      4\u001b[0m patients\u001b[38;5;241m.\u001b[39mto_excel(writer,sheet_name\u001b[38;5;241m=\u001b[39m\u001b[38;5;124m'\u001b[39m\u001b[38;5;124mpatients\u001b[39m\u001b[38;5;124m'\u001b[39m)\n\u001b[0;32m      5\u001b[0m treatments\u001b[38;5;241m.\u001b[39mto_excel(writer,sheet_name\u001b[38;5;241m=\u001b[39m\u001b[38;5;124m'\u001b[39m\u001b[38;5;124mtreatments\u001b[39m\u001b[38;5;124m'\u001b[39m)\n\u001b[1;32m----> 6\u001b[0m treatment_cut\u001b[38;5;241m.\u001b[39mto_excel(writer,sheet_name\u001b[38;5;241m=\u001b[39m\u001b[38;5;124m'\u001b[39m\u001b[38;5;124mtreatment_cut\u001b[39m\u001b[38;5;124m'\u001b[39m)\n\u001b[0;32m      7\u001b[0m adverse_reactions\u001b[38;5;241m.\u001b[39mto_excel(writer,sheet_name\u001b[38;5;241m=\u001b[39m\u001b[38;5;124m'\u001b[39m\u001b[38;5;124madverse_reactions\u001b[39m\u001b[38;5;124m'\u001b[39m)\n",
      "\u001b[1;31mNameError\u001b[0m: name 'treatment_cut' is not defined"
     ]
    }
   ],
   "source": [
    "# export data for manual assessment\n",
    "\n",
    "with pd.ExcelWriter('clinical_trials.xlsx') as writer:\n",
    "  patients.to_excel(writer,sheet_name='patients')\n",
    "  treatments.to_excel(writer,sheet_name='treatments')\n",
    "  treatment_cut.to_excel(writer,sheet_name='treatment_cut')\n",
    "  adverse_reactions.to_excel(writer,sheet_name='adverse_reactions')"
   ]
  },
  {
   "cell_type": "markdown",
   "id": "8285ce4f",
   "metadata": {},
   "source": [
    "### Issues with the dataset\n",
    "\n",
    "1. Dirty Data\n",
    "\n",
    "  Table - `Patients`\n",
    "\n",
    "    - patient_id = 9 has misspelled name 'Dsvid' instead of David `accuracy`\n",
    "    - state col sometimes contain full name and some times abbrivietation `consistency`\n",
    "    - zip code col has entries with 4 digit `validity`\n",
    "    - data missing for 12 patients in address,city,\tstate,zip_code\t,country,\tcontact `completion`\n",
    "    - incorrect data type assigned to sex, zip code, birthdate `validity`\n",
    "    - duplicate entries by the name of John Doe `accuracy`\n",
    "    - one patient has weight = 48 pounds `accuracy`\n",
    "    - one patient has height = 27 inches `accuracy`\n",
    "\n",
    "  Table - `Treatments` & `Treatments_cut`\n",
    "\n",
    "    - given_name and surname col is is all lower case `consistency`\n",
    "    - remove u from Auralin and Novadra cols `validity`\n",
    "    - '-' in novadra and Auralin col treated as nan `validity`\n",
    "    - missing values in hba1c_change col `completion`\n",
    "    - 1 duplicate entry by the name Joseph day `accuracy`\n",
    "    - in hba1c_change 9 instead of 4 `accuracy`\n",
    "\n",
    "  Table - `Adverse_reactions`\n",
    "\n",
    "    - given_name and surname are all in lower case `consistency`\n",
    "\n",
    "2. Messy Data\n",
    "\n",
    "  Table - `Patients`\n",
    "\n",
    "    - contact col contains both phone and email\n",
    "\n",
    "  Table - `Treatments` & `Treatments_cut`\n",
    "\n",
    "    - Auralin and Novadra col should be split into 2 cols start and end dose\n",
    "    - merge both the tables\n",
    "\n",
    "  Table - `Adverse_reactions`\n",
    "\n",
    "    - This table should not exist independently"
   ]
  },
  {
   "cell_type": "markdown",
   "id": "69c3a75d",
   "metadata": {},
   "source": [
    "### Automatic Assessment\n",
    "\n",
    "- head and tail\n",
    "- sample\n",
    "- info\n",
    "- isnull\n",
    "- duplicated\n",
    "- describe"
   ]
  },
  {
   "cell_type": "code",
   "execution_count": null,
   "id": "a59b052d",
   "metadata": {},
   "outputs": [],
   "source": [
    "adverse_reactions.info()"
   ]
  },
  {
   "cell_type": "code",
   "execution_count": null,
   "id": "84315520",
   "metadata": {},
   "outputs": [],
   "source": [
    "treatments[treatments.duplicated()]"
   ]
  },
  {
   "cell_type": "code",
   "execution_count": null,
   "id": "ae0aa4ed",
   "metadata": {},
   "outputs": [],
   "source": [
    "treatments[treatments.duplicated([\"given_name\",\"surname\"])]"
   ]
  },
  {
   "cell_type": "code",
   "execution_count": null,
   "id": "51bb9359",
   "metadata": {},
   "outputs": [],
   "source": [
    "#drop duplicates from treatments\n",
    "treatments.drop_duplicates(inplace=True)\n",
    "treatments[treatments.duplicated()]"
   ]
  },
  {
   "cell_type": "code",
   "execution_count": null,
   "id": "e977ca01",
   "metadata": {},
   "outputs": [],
   "source": [
    "treatments_cut[treatments_cut.duplicated()]"
   ]
  },
  {
   "cell_type": "markdown",
   "id": "62b6e390",
   "metadata": {},
   "source": [
    "ther is no duplicaed value in treatments cut"
   ]
  },
  {
   "cell_type": "code",
   "execution_count": null,
   "id": "77c16c90",
   "metadata": {},
   "outputs": [],
   "source": [
    "adverse_reactions.duplicated().sum()"
   ]
  },
  {
   "cell_type": "code",
   "execution_count": null,
   "id": "93cba157",
   "metadata": {},
   "outputs": [],
   "source": [
    "patients.describe()"
   ]
  },
  {
   "cell_type": "code",
   "execution_count": null,
   "id": "847e5935",
   "metadata": {},
   "outputs": [],
   "source": [
    "patients.shape"
   ]
  },
  {
   "cell_type": "code",
   "execution_count": null,
   "id": "3671b474",
   "metadata": {},
   "outputs": [],
   "source": [
    "patients[patients[\"height\"]==27]\n",
    "\n",
    "#wrong information about height in  case of patient id 4"
   ]
  },
  {
   "cell_type": "code",
   "execution_count": null,
   "id": "7e77f851",
   "metadata": {},
   "outputs": [],
   "source": [
    "treatments.sort_values(\"hba1c_change\",na_position='first')"
   ]
  },
  {
   "cell_type": "markdown",
   "id": "c26fb27b",
   "metadata": {},
   "source": [
    "### Note - Assessing Data is an Iterative Process\n",
    "\n",
    "---\n",
    "### Data Quality Dimensions\n",
    "\n",
    "- Completeness -> is data missing?\n",
    "- Validity -> is data invalid -> negative height -> duplicate patient id\n",
    "- Accuracy -> data is valid but not accurate -> weight -> 1kg\n",
    "- Consistency -> both valid and accurate but written differently -> New Youk and NY"
   ]
  },
  {
   "cell_type": "markdown",
   "id": "b49d04fc",
   "metadata": {},
   "source": [
    "### Order of severity\n",
    "\n",
    "Completeness <- Validity <- Accuracy <- Consistency"
   ]
  },
  {
   "cell_type": "markdown",
   "id": "b4168a83",
   "metadata": {},
   "source": [
    "### Data Cleaning Order\n",
    "\n",
    "1. Quality -> Completeness\n",
    "2. Tidiness\n",
    "3. Quality -> Validity\n",
    "4. Quality -> Accuracy\n",
    "5. Quality -> Consistency\n",
    "\n",
    "#### Steps involved in Data cleaning\n",
    "- Define\n",
    "- Code\n",
    "- Test\n",
    "\n",
    "`Always make sure to create a copy of your pandas dataframe before you start the cleaning process`"
   ]
  },
  {
   "cell_type": "code",
   "execution_count": 27,
   "id": "8856c277",
   "metadata": {},
   "outputs": [],
   "source": [
    "patients_df = patients.copy()\n",
    "treatments_df = treatments.copy()\n",
    "treatments_cut_df = treatments_cut.copy()\n",
    "adverse_reactions_df = adverse_reactions.copy()"
   ]
  },
  {
   "cell_type": "markdown",
   "id": "f8827144",
   "metadata": {},
   "source": [
    "### Define\n",
    "\n",
    "- replace all missing values of patients df with no data\n",
    "- sub hba1c_start from hba1c_end to get all the change values\n",
    "- in patients table we will use regex to separate email and phone"
   ]
  },
  {
   "cell_type": "code",
   "execution_count": null,
   "id": "095e40af",
   "metadata": {},
   "outputs": [],
   "source": [
    "patients_df.fillna('no_data',inplace=True)\n",
    "patients_df"
   ]
  },
  {
   "cell_type": "code",
   "execution_count": null,
   "id": "7d6a64c6",
   "metadata": {},
   "outputs": [],
   "source": [
    "treatments.head()"
   ]
  },
  {
   "cell_type": "code",
   "execution_count": null,
   "id": "cc6d2661",
   "metadata": {},
   "outputs": [],
   "source": [
    "treatments[\"hba1c_change\"]=treatments[\"hba1c_start\"]-treatments[\"hba1c_end\"]"
   ]
  },
  {
   "cell_type": "code",
   "execution_count": null,
   "id": "7e71fc3c",
   "metadata": {},
   "outputs": [],
   "source": [
    "treatments.head()"
   ]
  },
  {
   "cell_type": "code",
   "execution_count": null,
   "id": "895ea66e",
   "metadata": {},
   "outputs": [],
   "source": [
    "treatments_cut.head()"
   ]
  },
  {
   "cell_type": "code",
   "execution_count": null,
   "id": "5931296a",
   "metadata": {},
   "outputs": [],
   "source": [
    "treatments_cut[\"hba1c_change\"]=treatments_cut[\"hba1c_start\"]-treatments_cut[\"hba1c_end\"]"
   ]
  },
  {
   "cell_type": "raw",
   "id": "53b8e4b5",
   "metadata": {},
   "source": [
    "treatments_cut.head()"
   ]
  },
  {
   "cell_type": "code",
   "execution_count": 14,
   "id": "baa5097f",
   "metadata": {},
   "outputs": [
    {
     "data": {
      "text/html": [
       "<div>\n",
       "<style scoped>\n",
       "    .dataframe tbody tr th:only-of-type {\n",
       "        vertical-align: middle;\n",
       "    }\n",
       "\n",
       "    .dataframe tbody tr th {\n",
       "        vertical-align: top;\n",
       "    }\n",
       "\n",
       "    .dataframe thead th {\n",
       "        text-align: right;\n",
       "    }\n",
       "</style>\n",
       "<table border=\"1\" class=\"dataframe\">\n",
       "  <thead>\n",
       "    <tr style=\"text-align: right;\">\n",
       "      <th></th>\n",
       "      <th>patient_id</th>\n",
       "      <th>assigned_sex</th>\n",
       "      <th>given_name</th>\n",
       "      <th>surname</th>\n",
       "      <th>address</th>\n",
       "      <th>city</th>\n",
       "      <th>state</th>\n",
       "      <th>zip_code</th>\n",
       "      <th>country</th>\n",
       "      <th>contact</th>\n",
       "      <th>birthdate</th>\n",
       "      <th>weight</th>\n",
       "      <th>height</th>\n",
       "      <th>bmi</th>\n",
       "    </tr>\n",
       "  </thead>\n",
       "  <tbody>\n",
       "    <tr>\n",
       "      <th>0</th>\n",
       "      <td>1</td>\n",
       "      <td>female</td>\n",
       "      <td>Zoe</td>\n",
       "      <td>Wellish</td>\n",
       "      <td>576 Brown Bear Drive</td>\n",
       "      <td>Rancho California</td>\n",
       "      <td>California</td>\n",
       "      <td>92390.0</td>\n",
       "      <td>United States</td>\n",
       "      <td>951-719-9170ZoeWellish@superrito.com</td>\n",
       "      <td>7/10/1976</td>\n",
       "      <td>121.7</td>\n",
       "      <td>66</td>\n",
       "      <td>19.6</td>\n",
       "    </tr>\n",
       "    <tr>\n",
       "      <th>1</th>\n",
       "      <td>2</td>\n",
       "      <td>female</td>\n",
       "      <td>Pamela</td>\n",
       "      <td>Hill</td>\n",
       "      <td>2370 University Hill Road</td>\n",
       "      <td>Armstrong</td>\n",
       "      <td>Illinois</td>\n",
       "      <td>61812.0</td>\n",
       "      <td>United States</td>\n",
       "      <td>PamelaSHill@cuvox.de+1 (217) 569-3204</td>\n",
       "      <td>4/3/1967</td>\n",
       "      <td>118.8</td>\n",
       "      <td>66</td>\n",
       "      <td>19.2</td>\n",
       "    </tr>\n",
       "    <tr>\n",
       "      <th>2</th>\n",
       "      <td>3</td>\n",
       "      <td>male</td>\n",
       "      <td>Jae</td>\n",
       "      <td>Debord</td>\n",
       "      <td>1493 Poling Farm Road</td>\n",
       "      <td>York</td>\n",
       "      <td>Nebraska</td>\n",
       "      <td>68467.0</td>\n",
       "      <td>United States</td>\n",
       "      <td>402-363-6804JaeMDebord@gustr.com</td>\n",
       "      <td>2/19/1980</td>\n",
       "      <td>177.8</td>\n",
       "      <td>71</td>\n",
       "      <td>24.8</td>\n",
       "    </tr>\n",
       "    <tr>\n",
       "      <th>3</th>\n",
       "      <td>4</td>\n",
       "      <td>male</td>\n",
       "      <td>Liêm</td>\n",
       "      <td>Phan</td>\n",
       "      <td>2335 Webster Street</td>\n",
       "      <td>Woodbridge</td>\n",
       "      <td>NJ</td>\n",
       "      <td>7095.0</td>\n",
       "      <td>United States</td>\n",
       "      <td>PhanBaLiem@jourrapide.com+1 (732) 636-8246</td>\n",
       "      <td>7/26/1951</td>\n",
       "      <td>220.9</td>\n",
       "      <td>70</td>\n",
       "      <td>31.7</td>\n",
       "    </tr>\n",
       "    <tr>\n",
       "      <th>4</th>\n",
       "      <td>5</td>\n",
       "      <td>male</td>\n",
       "      <td>Tim</td>\n",
       "      <td>Neudorf</td>\n",
       "      <td>1428 Turkey Pen Lane</td>\n",
       "      <td>Dothan</td>\n",
       "      <td>AL</td>\n",
       "      <td>36303.0</td>\n",
       "      <td>United States</td>\n",
       "      <td>334-515-7487TimNeudorf@cuvox.de</td>\n",
       "      <td>2/18/1928</td>\n",
       "      <td>192.3</td>\n",
       "      <td>27</td>\n",
       "      <td>26.1</td>\n",
       "    </tr>\n",
       "  </tbody>\n",
       "</table>\n",
       "</div>"
      ],
      "text/plain": [
       "   patient_id assigned_sex given_name  surname                    address  \\\n",
       "0           1       female        Zoe  Wellish       576 Brown Bear Drive   \n",
       "1           2       female     Pamela     Hill  2370 University Hill Road   \n",
       "2           3         male        Jae   Debord      1493 Poling Farm Road   \n",
       "3           4         male       Liêm     Phan        2335 Webster Street   \n",
       "4           5         male        Tim  Neudorf       1428 Turkey Pen Lane   \n",
       "\n",
       "                city       state  zip_code        country  \\\n",
       "0  Rancho California  California   92390.0  United States   \n",
       "1          Armstrong    Illinois   61812.0  United States   \n",
       "2               York    Nebraska   68467.0  United States   \n",
       "3         Woodbridge          NJ    7095.0  United States   \n",
       "4             Dothan          AL   36303.0  United States   \n",
       "\n",
       "                                      contact  birthdate  weight  height   bmi  \n",
       "0        951-719-9170ZoeWellish@superrito.com  7/10/1976   121.7      66  19.6  \n",
       "1       PamelaSHill@cuvox.de+1 (217) 569-3204   4/3/1967   118.8      66  19.2  \n",
       "2            402-363-6804JaeMDebord@gustr.com  2/19/1980   177.8      71  24.8  \n",
       "3  PhanBaLiem@jourrapide.com+1 (732) 636-8246  7/26/1951   220.9      70  31.7  \n",
       "4             334-515-7487TimNeudorf@cuvox.de  2/18/1928   192.3      27  26.1  "
      ]
     },
     "execution_count": 14,
     "metadata": {},
     "output_type": "execute_result"
    }
   ],
   "source": [
    "patients.head()\n"
   ]
  },
  {
   "cell_type": "code",
   "execution_count": 21,
   "id": "71e6afe4",
   "metadata": {},
   "outputs": [
    {
     "ename": "TypeError",
     "evalue": "DataFrame.iterrows() takes 1 positional argument but 2 were given",
     "output_type": "error",
     "traceback": [
      "\u001b[1;31m---------------------------------------------------------------------------\u001b[0m",
      "\u001b[1;31mTypeError\u001b[0m                                 Traceback (most recent call last)",
      "Cell \u001b[1;32mIn[21], line 12\u001b[0m\n\u001b[0;32m     10\u001b[0m     phone \u001b[38;5;241m=\u001b[39m phone_match\u001b[38;5;241m.\u001b[39mgroup(\u001b[38;5;241m0\u001b[39m) \u001b[38;5;28;01mif\u001b[39;00m phone_match \u001b[38;5;28;01melse\u001b[39;00m \u001b[38;5;28;01mNone\u001b[39;00m\n\u001b[0;32m     11\u001b[0m     email \u001b[38;5;241m=\u001b[39m email_match\u001b[38;5;241m.\u001b[39mgroup(\u001b[38;5;241m1\u001b[39m) \u001b[38;5;28;01mif\u001b[39;00m email_match \u001b[38;5;28;01melse\u001b[39;00m \u001b[38;5;28;01mNone\u001b[39;00m\n\u001b[1;32m---> 12\u001b[0m     df \u001b[38;5;241m=\u001b[39m df\u001b[38;5;241m.\u001b[39miterrows({\u001b[38;5;124m'\u001b[39m\u001b[38;5;124mphone\u001b[39m\u001b[38;5;124m'\u001b[39m: phone, \u001b[38;5;124m'\u001b[39m\u001b[38;5;124memail\u001b[39m\u001b[38;5;124m'\u001b[39m: email})\n\u001b[0;32m     14\u001b[0m \u001b[38;5;28mprint\u001b[39m(df)\n",
      "\u001b[1;31mTypeError\u001b[0m: DataFrame.iterrows() takes 1 positional argument but 2 were given"
     ]
    }
   ],
   "source": []
  },
  {
   "cell_type": "code",
   "execution_count": 81,
   "id": "a69d3c82",
   "metadata": {},
   "outputs": [
    {
     "ename": "AttributeError",
     "evalue": "'DataFrame' object has no attribute 'append'",
     "output_type": "error",
     "traceback": [
      "\u001b[1;31m---------------------------------------------------------------------------\u001b[0m",
      "\u001b[1;31mAttributeError\u001b[0m                            Traceback (most recent call last)",
      "\u001b[1;32m~\\AppData\\Local\\Temp\\ipykernel_11248\\987190022.py\u001b[0m in \u001b[0;36m?\u001b[1;34m()\u001b[0m\n\u001b[0;32m      8\u001b[0m     \u001b[0mphone_match\u001b[0m \u001b[1;33m=\u001b[0m \u001b[0mre\u001b[0m\u001b[1;33m.\u001b[0m\u001b[0msearch\u001b[0m\u001b[1;33m(\u001b[0m\u001b[1;34mr'(\\d{3}[-\\.\\s]??\\d{3}[-\\.\\s]??\\d{4}|\\(\\d{3}\\)\\s*\\d{3}[-\\.\\s]??\\d{4}|\\d{3}[-\\.\\s]??\\d{4})'\u001b[0m\u001b[1;33m,\u001b[0m \u001b[0mitem\u001b[0m\u001b[1;33m)\u001b[0m\u001b[1;33m\u001b[0m\u001b[1;33m\u001b[0m\u001b[0m\n\u001b[0;32m      9\u001b[0m     \u001b[0memail_match\u001b[0m \u001b[1;33m=\u001b[0m \u001b[0mre\u001b[0m\u001b[1;33m.\u001b[0m\u001b[0msearch\u001b[0m\u001b[1;33m(\u001b[0m\u001b[1;34mr'([a-zA-Z0-9_.+-]+@[a-zA-Z0-9-]+\\.[a-zA-Z0-9-.]+)'\u001b[0m\u001b[1;33m,\u001b[0m \u001b[0mitem\u001b[0m\u001b[1;33m)\u001b[0m\u001b[1;33m\u001b[0m\u001b[1;33m\u001b[0m\u001b[0m\n\u001b[0;32m     10\u001b[0m     \u001b[0mphone\u001b[0m \u001b[1;33m=\u001b[0m \u001b[0mphone_match\u001b[0m\u001b[1;33m.\u001b[0m\u001b[0mgroup\u001b[0m\u001b[1;33m(\u001b[0m\u001b[1;36m0\u001b[0m\u001b[1;33m)\u001b[0m \u001b[1;32mif\u001b[0m \u001b[0mphone_match\u001b[0m \u001b[1;32melse\u001b[0m \u001b[1;32mNone\u001b[0m\u001b[1;33m\u001b[0m\u001b[1;33m\u001b[0m\u001b[0m\n\u001b[0;32m     11\u001b[0m     \u001b[0memail\u001b[0m \u001b[1;33m=\u001b[0m \u001b[0memail_match\u001b[0m\u001b[1;33m.\u001b[0m\u001b[0mgroup\u001b[0m\u001b[1;33m(\u001b[0m\u001b[1;36m1\u001b[0m\u001b[1;33m)\u001b[0m \u001b[1;32mif\u001b[0m \u001b[0memail_match\u001b[0m \u001b[1;32melse\u001b[0m \u001b[1;32mNone\u001b[0m\u001b[1;33m\u001b[0m\u001b[1;33m\u001b[0m\u001b[0m\n\u001b[1;32m---> 12\u001b[1;33m     \u001b[0mdf\u001b[0m \u001b[1;33m=\u001b[0m \u001b[0mdf\u001b[0m\u001b[1;33m.\u001b[0m\u001b[0mappend\u001b[0m\u001b[1;33m(\u001b[0m\u001b[0mpd\u001b[0m\u001b[1;33m.\u001b[0m\u001b[0mSeries\u001b[0m\u001b[1;33m(\u001b[0m\u001b[1;33m{\u001b[0m\u001b[1;34m'phone'\u001b[0m\u001b[1;33m:\u001b[0m \u001b[0mphone\u001b[0m\u001b[1;33m,\u001b[0m \u001b[1;34m'email'\u001b[0m\u001b[1;33m:\u001b[0m \u001b[0memail\u001b[0m\u001b[1;33m}\u001b[0m\u001b[1;33m)\u001b[0m\u001b[1;33m,\u001b[0m \u001b[0mignore_index\u001b[0m\u001b[1;33m=\u001b[0m\u001b[1;32mTrue\u001b[0m\u001b[1;33m)\u001b[0m\u001b[1;33m\u001b[0m\u001b[1;33m\u001b[0m\u001b[0m\n\u001b[0m\u001b[0;32m     13\u001b[0m \u001b[0mprint\u001b[0m\u001b[1;33m(\u001b[0m\u001b[0mdf\u001b[0m\u001b[1;33m)\u001b[0m\u001b[1;33m\u001b[0m\u001b[1;33m\u001b[0m\u001b[0m\n",
      "\u001b[1;32m~\\anaconda3\\Lib\\site-packages\\pandas\\core\\generic.py\u001b[0m in \u001b[0;36m?\u001b[1;34m(self, name)\u001b[0m\n\u001b[0;32m   5985\u001b[0m             \u001b[1;32mand\u001b[0m \u001b[0mname\u001b[0m \u001b[1;32mnot\u001b[0m \u001b[1;32min\u001b[0m \u001b[0mself\u001b[0m\u001b[1;33m.\u001b[0m\u001b[0m_accessors\u001b[0m\u001b[1;33m\u001b[0m\u001b[1;33m\u001b[0m\u001b[0m\n\u001b[0;32m   5986\u001b[0m             \u001b[1;32mand\u001b[0m \u001b[0mself\u001b[0m\u001b[1;33m.\u001b[0m\u001b[0m_info_axis\u001b[0m\u001b[1;33m.\u001b[0m\u001b[0m_can_hold_identifiers_and_holds_name\u001b[0m\u001b[1;33m(\u001b[0m\u001b[0mname\u001b[0m\u001b[1;33m)\u001b[0m\u001b[1;33m\u001b[0m\u001b[1;33m\u001b[0m\u001b[0m\n\u001b[0;32m   5987\u001b[0m         ):\n\u001b[0;32m   5988\u001b[0m             \u001b[1;32mreturn\u001b[0m \u001b[0mself\u001b[0m\u001b[1;33m[\u001b[0m\u001b[0mname\u001b[0m\u001b[1;33m]\u001b[0m\u001b[1;33m\u001b[0m\u001b[1;33m\u001b[0m\u001b[0m\n\u001b[1;32m-> 5989\u001b[1;33m         \u001b[1;32mreturn\u001b[0m \u001b[0mobject\u001b[0m\u001b[1;33m.\u001b[0m\u001b[0m__getattribute__\u001b[0m\u001b[1;33m(\u001b[0m\u001b[0mself\u001b[0m\u001b[1;33m,\u001b[0m \u001b[0mname\u001b[0m\u001b[1;33m)\u001b[0m\u001b[1;33m\u001b[0m\u001b[1;33m\u001b[0m\u001b[0m\n\u001b[0m",
      "\u001b[1;31mAttributeError\u001b[0m: 'DataFrame' object has no attribute 'append'"
     ]
    }
   ],
   "source": [
    "import re\n",
    "\n",
    "df = pd.DataFrame(columns=['phone','email'])\n",
    "\n",
    "# Iterate through the data\n",
    "for item in patients['contact']:\n",
    "    # Use regular expressions to find the phone numbers and email addresses\n",
    "    phone_match = re.search(r'(\\d{3}[-\\.\\s]??\\d{3}[-\\.\\s]??\\d{4}|\\(\\d{3}\\)\\s*\\d{3}[-\\.\\s]??\\d{4}|\\d{3}[-\\.\\s]??\\d{4})', item)\n",
    "    email_match = re.search(r'([a-zA-Z0-9_.+-]+@[a-zA-Z0-9-]+\\.[a-zA-Z0-9-.]+)', item)\n",
    "    phone = phone_match.group(0) if phone_match else None\n",
    "    email = email_match.group(1) if email_match else None\n",
    "    df = df.append(pd.Series({'phone': phone, 'email': email}), ignore_index=True)\n",
    "print(df)"
   ]
  },
  {
   "cell_type": "code",
   "execution_count": 76,
   "id": "6cfb6cbc",
   "metadata": {},
   "outputs": [
    {
     "data": {
      "text/html": [
       "<div>\n",
       "<style scoped>\n",
       "    .dataframe tbody tr th:only-of-type {\n",
       "        vertical-align: middle;\n",
       "    }\n",
       "\n",
       "    .dataframe tbody tr th {\n",
       "        vertical-align: top;\n",
       "    }\n",
       "\n",
       "    .dataframe thead th {\n",
       "        text-align: right;\n",
       "    }\n",
       "</style>\n",
       "<table border=\"1\" class=\"dataframe\">\n",
       "  <thead>\n",
       "    <tr style=\"text-align: right;\">\n",
       "      <th></th>\n",
       "      <th>given_name</th>\n",
       "      <th>surname</th>\n",
       "      <th>hba1c_start</th>\n",
       "      <th>hba1c_end</th>\n",
       "      <th>hba1c_change</th>\n",
       "      <th>type</th>\n",
       "      <th>doses_start</th>\n",
       "      <th>doses_end</th>\n",
       "      <th>adverse_reaction</th>\n",
       "    </tr>\n",
       "  </thead>\n",
       "  <tbody>\n",
       "    <tr>\n",
       "      <th>0</th>\n",
       "      <td>veronika</td>\n",
       "      <td>jindrová</td>\n",
       "      <td>7.63</td>\n",
       "      <td>7.20</td>\n",
       "      <td>0.43</td>\n",
       "      <td>auralin</td>\n",
       "      <td>41</td>\n",
       "      <td>48</td>\n",
       "      <td>NaN</td>\n",
       "    </tr>\n",
       "    <tr>\n",
       "      <th>1</th>\n",
       "      <td>skye</td>\n",
       "      <td>gormanston</td>\n",
       "      <td>7.97</td>\n",
       "      <td>7.62</td>\n",
       "      <td>0.35</td>\n",
       "      <td>auralin</td>\n",
       "      <td>33</td>\n",
       "      <td>36</td>\n",
       "      <td>NaN</td>\n",
       "    </tr>\n",
       "    <tr>\n",
       "      <th>2</th>\n",
       "      <td>sophia</td>\n",
       "      <td>haugen</td>\n",
       "      <td>7.65</td>\n",
       "      <td>7.27</td>\n",
       "      <td>0.38</td>\n",
       "      <td>auralin</td>\n",
       "      <td>37</td>\n",
       "      <td>42</td>\n",
       "      <td>NaN</td>\n",
       "    </tr>\n",
       "    <tr>\n",
       "      <th>3</th>\n",
       "      <td>eddie</td>\n",
       "      <td>archer</td>\n",
       "      <td>7.89</td>\n",
       "      <td>7.55</td>\n",
       "      <td>0.34</td>\n",
       "      <td>auralin</td>\n",
       "      <td>31</td>\n",
       "      <td>38</td>\n",
       "      <td>NaN</td>\n",
       "    </tr>\n",
       "    <tr>\n",
       "      <th>4</th>\n",
       "      <td>asia</td>\n",
       "      <td>woźniak</td>\n",
       "      <td>7.76</td>\n",
       "      <td>7.37</td>\n",
       "      <td>0.39</td>\n",
       "      <td>auralin</td>\n",
       "      <td>30</td>\n",
       "      <td>36</td>\n",
       "      <td>NaN</td>\n",
       "    </tr>\n",
       "  </tbody>\n",
       "</table>\n",
       "</div>"
      ],
      "text/plain": [
       "  given_name     surname  hba1c_start  hba1c_end  hba1c_change     type  \\\n",
       "0   veronika    jindrová         7.63       7.20          0.43  auralin   \n",
       "1       skye  gormanston         7.97       7.62          0.35  auralin   \n",
       "2     sophia      haugen         7.65       7.27          0.38  auralin   \n",
       "3      eddie      archer         7.89       7.55          0.34  auralin   \n",
       "4       asia     woźniak         7.76       7.37          0.39  auralin   \n",
       "\n",
       "   doses_start  doses_end adverse_reaction  \n",
       "0           41         48              NaN  \n",
       "1           33         36              NaN  \n",
       "2           37         42              NaN  \n",
       "3           31         38              NaN  \n",
       "4           30         36              NaN  "
      ]
     },
     "execution_count": 76,
     "metadata": {},
     "output_type": "execute_result"
    }
   ],
   "source": [
    "treatments_df.head()"
   ]
  },
  {
   "cell_type": "code",
   "execution_count": 30,
   "id": "41aebd45",
   "metadata": {},
   "outputs": [
    {
     "data": {
      "text/html": [
       "<div>\n",
       "<style scoped>\n",
       "    .dataframe tbody tr th:only-of-type {\n",
       "        vertical-align: middle;\n",
       "    }\n",
       "\n",
       "    .dataframe tbody tr th {\n",
       "        vertical-align: top;\n",
       "    }\n",
       "\n",
       "    .dataframe thead th {\n",
       "        text-align: right;\n",
       "    }\n",
       "</style>\n",
       "<table border=\"1\" class=\"dataframe\">\n",
       "  <thead>\n",
       "    <tr style=\"text-align: right;\">\n",
       "      <th></th>\n",
       "      <th>given_name</th>\n",
       "      <th>surname</th>\n",
       "      <th>auralin</th>\n",
       "      <th>novodra</th>\n",
       "      <th>hba1c_start</th>\n",
       "      <th>hba1c_end</th>\n",
       "      <th>hba1c_change</th>\n",
       "    </tr>\n",
       "  </thead>\n",
       "  <tbody>\n",
       "    <tr>\n",
       "      <th>0</th>\n",
       "      <td>jožka</td>\n",
       "      <td>resanovič</td>\n",
       "      <td>22u - 30u</td>\n",
       "      <td>-</td>\n",
       "      <td>7.56</td>\n",
       "      <td>7.22</td>\n",
       "      <td>0.34</td>\n",
       "    </tr>\n",
       "    <tr>\n",
       "      <th>1</th>\n",
       "      <td>inunnguaq</td>\n",
       "      <td>heilmann</td>\n",
       "      <td>57u - 67u</td>\n",
       "      <td>-</td>\n",
       "      <td>7.85</td>\n",
       "      <td>7.45</td>\n",
       "      <td>NaN</td>\n",
       "    </tr>\n",
       "    <tr>\n",
       "      <th>2</th>\n",
       "      <td>alwin</td>\n",
       "      <td>svensson</td>\n",
       "      <td>36u - 39u</td>\n",
       "      <td>-</td>\n",
       "      <td>7.78</td>\n",
       "      <td>7.34</td>\n",
       "      <td>NaN</td>\n",
       "    </tr>\n",
       "    <tr>\n",
       "      <th>3</th>\n",
       "      <td>thể</td>\n",
       "      <td>lương</td>\n",
       "      <td>-</td>\n",
       "      <td>61u - 64u</td>\n",
       "      <td>7.64</td>\n",
       "      <td>7.22</td>\n",
       "      <td>0.92</td>\n",
       "    </tr>\n",
       "    <tr>\n",
       "      <th>4</th>\n",
       "      <td>amanda</td>\n",
       "      <td>ribeiro</td>\n",
       "      <td>36u - 44u</td>\n",
       "      <td>-</td>\n",
       "      <td>7.85</td>\n",
       "      <td>7.47</td>\n",
       "      <td>0.38</td>\n",
       "    </tr>\n",
       "  </tbody>\n",
       "</table>\n",
       "</div>"
      ],
      "text/plain": [
       "  given_name    surname    auralin    novodra  hba1c_start  hba1c_end  \\\n",
       "0      jožka  resanovič  22u - 30u          -         7.56       7.22   \n",
       "1  inunnguaq   heilmann  57u - 67u          -         7.85       7.45   \n",
       "2      alwin   svensson  36u - 39u          -         7.78       7.34   \n",
       "3        thể      lương          -  61u - 64u         7.64       7.22   \n",
       "4     amanda    ribeiro  36u - 44u          -         7.85       7.47   \n",
       "\n",
       "   hba1c_change  \n",
       "0          0.34  \n",
       "1           NaN  \n",
       "2           NaN  \n",
       "3          0.92  \n",
       "4          0.38  "
      ]
     },
     "execution_count": 30,
     "metadata": {},
     "output_type": "execute_result"
    }
   ],
   "source": [
    "treatments_cut_df.head()"
   ]
  },
  {
   "cell_type": "code",
   "execution_count": 32,
   "id": "7ff85d85",
   "metadata": {},
   "outputs": [],
   "source": [
    "treatments_df=pd.concat([treatments_df,treatments_cut_df])"
   ]
  },
  {
   "cell_type": "code",
   "execution_count": 37,
   "id": "aefabd50",
   "metadata": {},
   "outputs": [],
   "source": [
    "treatments_df=treatments_df.melt(id_vars=['given_name','surname','hba1c_start','hba1c_end','hba1c_change'],var_name='type',value_name=\"doses_range\")"
   ]
  },
  {
   "cell_type": "code",
   "execution_count": 40,
   "id": "b5964b99",
   "metadata": {},
   "outputs": [],
   "source": [
    "treatments_df=treatments_df[treatments_df[\"doses_range\"]!='-']"
   ]
  },
  {
   "cell_type": "code",
   "execution_count": 46,
   "id": "782f7736",
   "metadata": {},
   "outputs": [],
   "source": [
    "treatments_df['doses_start']=treatments_df['doses_range'].str.split('-').str.get(0)\n",
    "treatments_df['doses_end']=treatments_df['doses_range'].str.split('-').str.get(1)"
   ]
  },
  {
   "cell_type": "code",
   "execution_count": 49,
   "id": "fda412d9",
   "metadata": {},
   "outputs": [],
   "source": [
    "treatments_df=treatments_df.drop(columns='doses_range')"
   ]
  },
  {
   "cell_type": "code",
   "execution_count": 54,
   "id": "e2029380",
   "metadata": {},
   "outputs": [],
   "source": [
    "treatments_df[\"doses_start\"]=treatments_df[\"doses_start\"].str.replace('u','')\n",
    "treatments_df[\"doses_end\"]=treatments_df[\"doses_end\"].str.replace('u','')"
   ]
  },
  {
   "cell_type": "code",
   "execution_count": 56,
   "id": "61d6f6a6",
   "metadata": {},
   "outputs": [],
   "source": [
    "treatments_df[\"hba1c_change\"]=treatments_df[\"hba1c_start\"]-treatments_df[\"hba1c_end\"]"
   ]
  },
  {
   "cell_type": "code",
   "execution_count": 60,
   "id": "f591c300",
   "metadata": {},
   "outputs": [],
   "source": [
    "treatments_df=treatments_df.merge(adverse_reactions_df,how=\"left\",on=[\"given_name\",\"surname\"])"
   ]
  },
  {
   "cell_type": "code",
   "execution_count": 65,
   "id": "f90a9ac9",
   "metadata": {},
   "outputs": [],
   "source": [
    "treatments_df[\"doses_start\"]=treatments_df[\"doses_start\"].astype('int')\n",
    "treatments_df[\"doses_end\"]=treatments_df[\"doses_end\"].astype('int')"
   ]
  },
  {
   "cell_type": "code",
   "execution_count": 66,
   "id": "f3500bbe",
   "metadata": {},
   "outputs": [
    {
     "name": "stdout",
     "output_type": "stream",
     "text": [
      "<class 'pandas.core.frame.DataFrame'>\n",
      "RangeIndex: 350 entries, 0 to 349\n",
      "Data columns (total 9 columns):\n",
      " #   Column            Non-Null Count  Dtype  \n",
      "---  ------            --------------  -----  \n",
      " 0   given_name        350 non-null    object \n",
      " 1   surname           350 non-null    object \n",
      " 2   hba1c_start       350 non-null    float64\n",
      " 3   hba1c_end         350 non-null    float64\n",
      " 4   hba1c_change      350 non-null    float64\n",
      " 5   type              350 non-null    object \n",
      " 6   doses_start       350 non-null    int32  \n",
      " 7   doses_end         350 non-null    int32  \n",
      " 8   adverse_reaction  35 non-null     object \n",
      "dtypes: float64(3), int32(2), object(4)\n",
      "memory usage: 22.0+ KB\n"
     ]
    }
   ],
   "source": [
    "treatments_df.info()"
   ]
  },
  {
   "cell_type": "code",
   "execution_count": null,
   "id": "e2f53b96",
   "metadata": {},
   "outputs": [],
   "source": []
  }
 ],
 "metadata": {
  "kernelspec": {
   "display_name": "Python 3 (ipykernel)",
   "language": "python",
   "name": "python3"
  },
  "language_info": {
   "codemirror_mode": {
    "name": "ipython",
    "version": 3
   },
   "file_extension": ".py",
   "mimetype": "text/x-python",
   "name": "python",
   "nbconvert_exporter": "python",
   "pygments_lexer": "ipython3",
   "version": "3.11.5"
  }
 },
 "nbformat": 4,
 "nbformat_minor": 5
}
